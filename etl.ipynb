{
 "cells": [
  {
   "cell_type": "code",
   "execution_count": 9,
   "metadata": {},
   "outputs": [],
   "source": [
    "import pandas as pd\n",
    "import ast\n",
    "\n",
    "# Cargar dataset\n",
    "df = pd.read_csv('movies_dataset_clean.csv', low_memory=False)\n",
    "\n",
    "# Convertir la columna release_date a datetime\n",
    "df['release_date'] = pd.to_datetime(df['release_date'], errors='coerce')\n",
    "\n",
    "# Imputar valores nulos\n",
    "df['revenue'] = df['revenue'].fillna(0)\n",
    "df['budget'] = df['budget'].fillna(0)\n",
    "\n",
    "\n",
    "# Eliminar registros sin 'release_date'\n",
    "df = df.dropna(subset=['release_date'])\n"
   ]
  },
  {
   "cell_type": "code",
   "execution_count": 10,
   "metadata": {},
   "outputs": [],
   "source": [
    "df['release_date'] = pd.to_datetime(df['release_date'], errors='coerce')\n",
    "df['release_year'] = df['release_date'].dt.year\n"
   ]
  },
  {
   "cell_type": "code",
   "execution_count": 11,
   "metadata": {},
   "outputs": [
    {
     "name": "stdout",
     "output_type": "stream",
     "text": [
      "       revenue    budget     return\n",
      "0  373554033.0  30000000  12.451801\n",
      "1  262797249.0  65000000   4.043035\n",
      "2          0.0         0   0.000000\n",
      "3   81452156.0  16000000   5.090760\n",
      "4   76578911.0         0   0.000000\n"
     ]
    }
   ],
   "source": [
    "# Asegurar que las columnas 'revenue' y 'budget' sean numéricas\n",
    "df['revenue'] = pd.to_numeric(df['revenue'], errors='coerce')\n",
    "df['budget'] = pd.to_numeric(df['budget'], errors='coerce')\n",
    "\n",
    "# Rellenar valores nulos con 0\n",
    "df['revenue'] = df['revenue'].fillna(0)\n",
    "df['budget'] = df['budget'].fillna(0)\n",
    "\n",
    "# Calcular el retorno de inversión\n",
    "df['return'] = df.apply(lambda x: x['revenue'] / x['budget'] if x['budget'] > 0 else 0, axis=1)\n",
    "\n",
    "# Mostrar resultados para verificar\n",
    "print(df[['revenue', 'budget', 'return']].head())\n",
    "\n"
   ]
  },
  {
   "cell_type": "code",
   "execution_count": 12,
   "metadata": {},
   "outputs": [],
   "source": [
    "df.drop(columns=['video', 'imdb_id', 'adult', 'original_title', 'poster_path', 'homepage'], inplace=True)\n"
   ]
  }
 ],
 "metadata": {
  "kernelspec": {
   "display_name": "Python 3",
   "language": "python",
   "name": "python3"
  },
  "language_info": {
   "codemirror_mode": {
    "name": "ipython",
    "version": 3
   },
   "file_extension": ".py",
   "mimetype": "text/x-python",
   "name": "python",
   "nbconvert_exporter": "python",
   "pygments_lexer": "ipython3",
   "version": "3.11.9"
  }
 },
 "nbformat": 4,
 "nbformat_minor": 2
}
